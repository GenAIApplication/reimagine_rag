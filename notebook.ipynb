{
 "cells": [
  {
   "cell_type": "markdown",
   "id": "fedd603a",
   "metadata": {},
   "source": [
    "# Import Libraries"
   ]
  },
  {
   "cell_type": "code",
   "execution_count": 1,
   "id": "b3f5a64b",
   "metadata": {},
   "outputs": [
    {
     "name": "stderr",
     "output_type": "stream",
     "text": [
      "/Users/swastikmaiti/Desktop/temp/reimagine_rag/.venv/lib/python3.13/site-packages/tqdm/auto.py:21: TqdmWarning: IProgress not found. Please update jupyter and ipywidgets. See https://ipywidgets.readthedocs.io/en/stable/user_install.html\n",
      "  from .autonotebook import tqdm as notebook_tqdm\n",
      "<All keys matched successfully>\n"
     ]
    }
   ],
   "source": [
    "import os\n",
    "import json\n",
    "from parser import parse_pdf\n",
    "from indexing import generate_vector_index,get_retriever"
   ]
  },
  {
   "cell_type": "markdown",
   "id": "3d24b3fb",
   "metadata": {},
   "source": [
    "## Declare Paths"
   ]
  },
  {
   "cell_type": "code",
   "execution_count": 2,
   "id": "f13981a2",
   "metadata": {},
   "outputs": [],
   "source": [
    "base_path = os.getcwd()  "
   ]
  },
  {
   "cell_type": "code",
   "execution_count": 3,
   "id": "367ceba1",
   "metadata": {},
   "outputs": [],
   "source": [
    "pdf_base = os.path.join(base_path, \"pdf\")\n",
    "parsed_results_base = os.path.join(base_path, \"parsed_results\")"
   ]
  },
  {
   "cell_type": "code",
   "execution_count": null,
   "id": "15e77601",
   "metadata": {},
   "outputs": [],
   "source": []
  },
  {
   "cell_type": "markdown",
   "id": "6f626075",
   "metadata": {},
   "source": [
    "# Parse PDF"
   ]
  },
  {
   "cell_type": "code",
   "execution_count": 4,
   "id": "034ee91a",
   "metadata": {},
   "outputs": [],
   "source": [
    "pdf_name = \"who_statistic.pdf\"\n",
    "pdf_path = os.path.join(pdf_base, pdf_name)\n",
    "parsed_result = None"
   ]
  },
  {
   "cell_type": "code",
   "execution_count": 5,
   "id": "97478ce3",
   "metadata": {},
   "outputs": [
    {
     "name": "stdout",
     "output_type": "stream",
     "text": [
      "Started parsing the file under job_id 04128041-53f1-4f9e-995f-fd375b94ef0f\n"
     ]
    }
   ],
   "source": [
    "with open(pdf_path, \"rb\") as f:\n",
    "    pdf_bytes = f.read()\n",
    "file_name = os.path.basename(pdf_path)\n",
    "\n",
    "parsed_result = await parse_pdf(pdf_bytes=pdf_bytes,file_name=file_name)"
   ]
  },
  {
   "cell_type": "markdown",
   "id": "9c379778",
   "metadata": {},
   "source": [
    "#### Save the Prased Result"
   ]
  },
  {
   "cell_type": "code",
   "execution_count": 6,
   "id": "5128185f",
   "metadata": {},
   "outputs": [],
   "source": [
    "parsed_output_file_name = \"parsed_output.json\"\n",
    "parsed_output_path = os.path.join(parsed_results_base, parsed_output_file_name)\n",
    "if parsed_result:\n",
    "    os.makedirs(os.path.dirname(parsed_output_path), exist_ok=True)\n",
    "    with open(parsed_output_path, \"w\", encoding=\"utf-8\") as f:\n",
    "        json.dump(parsed_result.model_dump(), f, ensure_ascii=False, indent=2)\n"
   ]
  },
  {
   "cell_type": "markdown",
   "id": "8d6df381",
   "metadata": {},
   "source": [
    "# Create Vector Index"
   ]
  },
  {
   "cell_type": "code",
   "execution_count": 7,
   "id": "84a48361",
   "metadata": {},
   "outputs": [],
   "source": [
    "pdf_content_file_name = \"pdf_content.json\"\n",
    "pdf_content_path = os.path.join(parsed_results_base, pdf_content_file_name)\n",
    "\n",
    "\n",
    "chroma_db_path = os.path.join(base_path, \"chroma_db\")\n",
    "collection_name = \"collection1\"\n"
   ]
  },
  {
   "cell_type": "markdown",
   "id": "416c8ef8",
   "metadata": {},
   "source": [
    "### Load Parsed Result"
   ]
  },
  {
   "cell_type": "code",
   "execution_count": 8,
   "id": "801b2462",
   "metadata": {},
   "outputs": [],
   "source": [
    "with open(parsed_output_path, \"r\", encoding=\"utf-8\") as f:\n",
    "    result = json.load(f)"
   ]
  },
  {
   "cell_type": "code",
   "execution_count": 9,
   "id": "716732d3",
   "metadata": {},
   "outputs": [
    {
     "name": "stdout",
     "output_type": "stream",
     "text": [
      "Content saved to /Users/swastikmaiti/Desktop/temp/reimagine_rag/parsed_results/pdf_content.json\n"
     ]
    }
   ],
   "source": [
    "generate_vector_index(pdf_result=result,pdf_content_path=pdf_content_path,chromadb_path=chroma_db_path,collection_name=collection_name)"
   ]
  },
  {
   "cell_type": "markdown",
   "id": "d77eebc8",
   "metadata": {},
   "source": [
    "### Test Retriever"
   ]
  },
  {
   "cell_type": "code",
   "execution_count": 10,
   "id": "c4f17719",
   "metadata": {},
   "outputs": [],
   "source": [
    "retriever = get_retriever(chromadb_path=chroma_db_path,collection_name=collection_name)\n",
    "query = \"What is the life expectancy of males in 2020?\"\n",
    "results = retriever.retrieve(query)"
   ]
  },
  {
   "cell_type": "code",
   "execution_count": 11,
   "id": "2185bd45",
   "metadata": {},
   "outputs": [
    {
     "data": {
      "text/plain": [
       "[NodeWithScore(node=TextNode(id_='493bc434-4d88-43a4-a55b-bf40f81aa96e', embedding=None, metadata={'page_no': 14}, excluded_embed_metadata_keys=[], excluded_llm_metadata_keys=[], relationships={}, metadata_template='{key}: {value}', metadata_separator='\\n', text='# 1.1 Life expectancy and healthy life expectancy\\n## 1.1.1 Global trend\\nSteady gain in global life expectancy at birth was observed from the turn of the millennium until the onset of the COVID-19 pandemic, up from 66.8 years (95% uncertainty interval¹ [UI]: 66.2–67.3 years) in 2000 to 73.1 (UI: 72.6–73.7) years in 2019, with men gaining 6.2 years from 64.4 (UI: 63.9–64.9) years to 70.6 (UI 70.1–71.2) years and women gaining 6.5 years from 69.2 (UI: 68.7–69.8) years to 75.7 (UI: 75.3–76.2) years during this period. In parallel, global HALE at birth increased from 58.1 (UI: 57.4–58.9) years in 2000 to 63.5 (UI: 62.7–64.3) years in 2019, with that for men increasing from 57.0 (UI: 56.3–57.6) years to 62.3 (UI: 61.7–63.1) years and that for women increasing from 59.3 (UI: 58.6–60.2) years to 64.6 (UI: 63.8–65.5) years (Fig. 1.1) (1).\\n> **Figure 1.1** Global trends in life expectancy and HALE at birth, by sex, 2000–2021  \\n> Source: WHO (1).\\n----\\n¹ Unless otherwise noted, the statistics quoted in this report are presented with 95% uncertainty intervals.', mimetype='text/plain', start_char_idx=None, end_char_idx=None, metadata_seperator='\\n', text_template='{metadata_str}\\n\\n{content}'), score=0.56482296766258),\n",
       " NodeWithScore(node=TextNode(id_='e05d1b5f-ecab-45c6-b14a-6ee014993f7f', embedding=None, metadata={'page_no': 16}, excluded_embed_metadata_keys=[], excluded_llm_metadata_keys=[], relationships={}, metadata_template='{key}: {value}', metadata_separator='\\n', text='# Trends in life expectancy and HALE at birth, by sex and World Bank income group, 2000–2021\\nMale = light green and light orange bars  \\nFemale = dark green and dark orange bars\\n- Light green and light orange bars represent life expectancy at birth (years)  \\n- Dark green and dark orange bars represent healthy life expectancy at birth (years)\\n*Source: WHO (1).*\\n----\\nIn addition, the impact of the pandemic was unequal across regions and income groups. The Region of the Americas and the South-East Asia Region have been the hardest hit: life expectancy in both regions dropped by 3.0 years and HALE by 2.5 years between 2019 and 2021. The Western Pacific Region was the least affected during the first two years of the pandemic, with less than 0.1 years and 0.2 years of loss seen for life expectancy and HALE, respectively. It was the only WHO region in which increases in life expectancy (0.2-year gain) and HALE (0.1-year gain) were observed in 2020. However, the region experienced some losses (0.3 years in life expectancy and 0.3 years in HALE) in 2021 compared with 2020, that cancelled out the earlier gains (1).\\nThe scale of pandemic-related tolls also varied over time across regions. The Region of the Americas, the European Region and the Eastern Mediterranean Region all experienced more severe impact in the first pandemic year, with 2020 seeing at least two thirds of the life expectancy decline and three fifths of the HALE decline. In contrast, coinciding with the wider spread of the Delta variant, the decline in life expectancy and HALE in the African and South-East Asia regions occurred more predominantly in 2021, accounting for at least 65% of the total losses in 2019–2021 (Fig. 1.2) (1).\\nBy World Bank income groups, life expectancy was cut by 0.6 years in low-income countries and by 2.4 years in lower-middle-income countries, and HALE cut by 0.6 years and 2.0 years, respectively, between 2019 and 2021. Over half of the years lost in life expectancy and HALE in upper-middle-income countries and over 70% of those in high-income countries in 2019–2021 occurred during the first year of the pandemic. In lower-middle-income countries, the hardest hit occurred in 2021, seeing over 70% of the loss in life expectancy and HALE. In low-income countries, the worsening of longevity was rather minimal in 2020, associated with only 2% (0.01 of 0.55 years) of the decline in life expectancy (Fig. 1.3) (1).', mimetype='text/plain', start_char_idx=None, end_char_idx=None, metadata_seperator='\\n', text_template='{metadata_str}\\n\\n{content}'), score=0.5543263410991758)]"
      ]
     },
     "execution_count": 11,
     "metadata": {},
     "output_type": "execute_result"
    }
   ],
   "source": [
    "results"
   ]
  },
  {
   "cell_type": "markdown",
   "id": "87134e17",
   "metadata": {},
   "source": [
    "# Test Agent"
   ]
  },
  {
   "cell_type": "code",
   "execution_count": 12,
   "id": "6557c429",
   "metadata": {},
   "outputs": [],
   "source": [
    "from process_query import QueryProcessor"
   ]
  },
  {
   "cell_type": "code",
   "execution_count": 13,
   "id": "3417f51f",
   "metadata": {},
   "outputs": [],
   "source": [
    "processor = QueryProcessor(\n",
    "    pdf_content_path=pdf_content_path,\n",
    "    chromadb_path=chroma_db_path,\n",
    "    collection_name=collection_name,\n",
    ")"
   ]
  },
  {
   "cell_type": "code",
   "execution_count": 14,
   "id": "416564d8",
   "metadata": {},
   "outputs": [],
   "source": [
    "response = await processor.process_query(query=\"What is the life expectancy of males in 2020?\")"
   ]
  },
  {
   "cell_type": "code",
   "execution_count": 15,
   "id": "90f19d02",
   "metadata": {},
   "outputs": [
    {
     "name": "stdout",
     "output_type": "stream",
     "text": [
      "Based on the provided context, the life expectancy of males in 2020 was approximately 70.5 years. This information is found in Figure 1.1, which details global trends in life expectancy at birth by sex from 2000 to 2021.\n"
     ]
    }
   ],
   "source": [
    "print(response)"
   ]
  },
  {
   "cell_type": "code",
   "execution_count": null,
   "id": "62df1087",
   "metadata": {},
   "outputs": [],
   "source": []
  }
 ],
 "metadata": {
  "kernelspec": {
   "display_name": "reimagine_rag",
   "language": "python",
   "name": "python3"
  },
  "language_info": {
   "codemirror_mode": {
    "name": "ipython",
    "version": 3
   },
   "file_extension": ".py",
   "mimetype": "text/x-python",
   "name": "python",
   "nbconvert_exporter": "python",
   "pygments_lexer": "ipython3",
   "version": "3.13.3"
  }
 },
 "nbformat": 4,
 "nbformat_minor": 5
}
